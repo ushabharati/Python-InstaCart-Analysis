{
 "cells": [
  {
   "cell_type": "code",
   "execution_count": 1,
   "id": "cd5f4c51",
   "metadata": {},
   "outputs": [],
   "source": [
    "# Importing Libraries\n",
    "\n",
    "import pandas as pd\n",
    "import numpy as np\n",
    "import os\n",
    "import matplotlib.pyplot as plt\n",
    "import seaborn as sns\n",
    "import scipy"
   ]
  },
  {
   "cell_type": "code",
   "execution_count": 2,
   "id": "b6a716b6",
   "metadata": {},
   "outputs": [],
   "source": [
    "path=r'C:\\Users\\Usha Bharati\\Downloads\\02-2024 Instacart Basket Analysis'"
   ]
  },
  {
   "cell_type": "code",
   "execution_count": 3,
   "id": "6327c41b",
   "metadata": {},
   "outputs": [],
   "source": [
    "# Importing Dataset\n",
    "df_all_merged=pd.read_pickle(os.path.join(path, '02 Data','Prepared Data', 'df_all_merged.pkl'))"
   ]
  },
  {
   "cell_type": "markdown",
   "id": "bba4c542",
   "metadata": {},
   "source": [
    "## Q2 Addressing any PII data "
   ]
  },
  {
   "cell_type": "markdown",
   "id": "c8eee859",
   "metadata": {},
   "source": [
    "### The dataset contains Personal Identifiable Information(PII) namely first name, surname, age, family status, income. This information does not pertain to any person in real life. The data is completely fabricated for the purpose of learning in this course. "
   ]
  },
  {
   "cell_type": "markdown",
   "id": "d8bed7d8",
   "metadata": {},
   "source": [
    "## Q3 (a) Creating a “Region” column based on the “State” column from customers data set. "
   ]
  },
  {
   "cell_type": "markdown",
   "id": "ef072753",
   "metadata": {},
   "source": [
    "## Creating 'Region' column using loc function"
   ]
  },
  {
   "cell_type": "code",
   "execution_count": 4,
   "id": "3c41a7f0",
   "metadata": {},
   "outputs": [],
   "source": [
    "df_all_merged.loc[df_all_merged['state'].isin(['Maine','New Hampshire','Vermont','Massachusetts','Rhode Island','Connecticut','New York','Pennsylvania','New Jersey']),'region']='Northeast'"
   ]
  },
  {
   "cell_type": "code",
   "execution_count": 5,
   "id": "d40bd454",
   "metadata": {},
   "outputs": [],
   "source": [
    "df_all_merged.loc[df_all_merged['state'].isin(['Wisconsin', 'Michigan', 'Illinois', 'Indiana', 'Ohio', 'North Dakota', 'South Dakota', 'Nebraska', 'Kansas', 'Minnesota', 'Iowa', 'Missouri']), 'region']='Midwest'"
   ]
  },
  {
   "cell_type": "code",
   "execution_count": 6,
   "id": "ae5ed4ce",
   "metadata": {},
   "outputs": [],
   "source": [
    "df_all_merged.loc[df_all_merged['state'].isin(['Delaware', 'Maryland', 'District of Columbia', 'Virginia', 'West Virginia', 'North Carolina', 'South Carolina', 'Georgia', 'Florida', 'Kentucky', 'Tennessee', 'Mississippi', 'Alabama', 'Oklahoma', 'Texas', 'Arkansas', 'Louisiana']), 'region'] = 'South'"
   ]
  },
  {
   "cell_type": "code",
   "execution_count": 7,
   "id": "7e12a11a",
   "metadata": {},
   "outputs": [],
   "source": [
    "df_all_merged.loc[df_all_merged['state'].isin(['Idaho','Montana','Wyoming','Nevada','Utah','Colorado','Arizona','New Mexico','Alaska','Washington','Oregon','California','Hawaii']),'region']='West'"
   ]
  },
  {
   "cell_type": "code",
   "execution_count": 8,
   "id": "d7ac0a14",
   "metadata": {},
   "outputs": [
    {
     "data": {
      "text/plain": [
       "region\n",
       "South        10791885\n",
       "West          8292913\n",
       "Midwest       7597325\n",
       "Northeast     5722736\n",
       "Name: count, dtype: int64"
      ]
     },
     "execution_count": 8,
     "metadata": {},
     "output_type": "execute_result"
    }
   ],
   "source": [
    "df_all_merged['region'].value_counts(dropna=False)"
   ]
  },
  {
   "cell_type": "markdown",
   "id": "f770badf",
   "metadata": {},
   "source": [
    "## Q3 (b) Spending habits between the different U.S. regions"
   ]
  },
  {
   "cell_type": "markdown",
   "id": "6ce464da",
   "metadata": {},
   "source": [
    "## Crosstab 'region' column with 'spending_flag'"
   ]
  },
  {
   "cell_type": "code",
   "execution_count": 9,
   "id": "b9d22e99",
   "metadata": {},
   "outputs": [],
   "source": [
    "spending_by_region = pd.crosstab(df_all_merged['region'], df_all_merged['spending_flag'], dropna = False).sort_values(by = 'High spender', ascending = False)"
   ]
  },
  {
   "cell_type": "code",
   "execution_count": 10,
   "id": "fa604dc9",
   "metadata": {},
   "outputs": [
    {
     "data": {
      "text/html": [
       "<div>\n",
       "<style scoped>\n",
       "    .dataframe tbody tr th:only-of-type {\n",
       "        vertical-align: middle;\n",
       "    }\n",
       "\n",
       "    .dataframe tbody tr th {\n",
       "        vertical-align: top;\n",
       "    }\n",
       "\n",
       "    .dataframe thead th {\n",
       "        text-align: right;\n",
       "    }\n",
       "</style>\n",
       "<table border=\"1\" class=\"dataframe\">\n",
       "  <thead>\n",
       "    <tr style=\"text-align: right;\">\n",
       "      <th>spending_flag</th>\n",
       "      <th>High spender</th>\n",
       "      <th>Low spender</th>\n",
       "    </tr>\n",
       "    <tr>\n",
       "      <th>region</th>\n",
       "      <th></th>\n",
       "      <th></th>\n",
       "    </tr>\n",
       "  </thead>\n",
       "  <tbody>\n",
       "    <tr>\n",
       "      <th>South</th>\n",
       "      <td>209691</td>\n",
       "      <td>10582194</td>\n",
       "    </tr>\n",
       "    <tr>\n",
       "      <th>West</th>\n",
       "      <td>160354</td>\n",
       "      <td>8132559</td>\n",
       "    </tr>\n",
       "    <tr>\n",
       "      <th>Midwest</th>\n",
       "      <td>155975</td>\n",
       "      <td>7441350</td>\n",
       "    </tr>\n",
       "    <tr>\n",
       "      <th>Northeast</th>\n",
       "      <td>108225</td>\n",
       "      <td>5614511</td>\n",
       "    </tr>\n",
       "  </tbody>\n",
       "</table>\n",
       "</div>"
      ],
      "text/plain": [
       "spending_flag  High spender  Low spender\n",
       "region                                  \n",
       "South                209691     10582194\n",
       "West                 160354      8132559\n",
       "Midwest              155975      7441350\n",
       "Northeast            108225      5614511"
      ]
     },
     "execution_count": 10,
     "metadata": {},
     "output_type": "execute_result"
    }
   ],
   "source": [
    "spending_by_region"
   ]
  },
  {
   "cell_type": "markdown",
   "id": "ce24d6cb",
   "metadata": {},
   "source": [
    "### 1.In the Southern U.S. region, there is a significant presence of High spenders, with 209,691 customers falling into this category. However, the majority of customers (10,582,194) are categorized as Low spenders.\n",
    "\n",
    "### 2.Similarly, the Western and Midwestern regions exhibit substantial numbers of both High and Low spenders.\n",
    "\n",
    "### 3.The Northeastern U.S. region has a comparatively lower count of High spenders (108,225) in comparison to the number of Low spenders (5,614,511)."
   ]
  },
  {
   "cell_type": "markdown",
   "id": "cd95cbc1",
   "metadata": {},
   "source": [
    "## Q4 Creating an exclusion flag for low-activity customers and excluding them from the data"
   ]
  },
  {
   "cell_type": "code",
   "execution_count": 11,
   "id": "426f7047",
   "metadata": {},
   "outputs": [],
   "source": [
    "# Creating Exclusion Flag\n",
    "df_all_merged['exclusion_flag'] = df_all_merged['max_order'] < 5"
   ]
  },
  {
   "cell_type": "code",
   "execution_count": 12,
   "id": "25f0fe90",
   "metadata": {},
   "outputs": [
    {
     "data": {
      "text/plain": [
       "exclusion_flag\n",
       "False    30964564\n",
       "True      1440295\n",
       "Name: count, dtype: int64"
      ]
     },
     "execution_count": 12,
     "metadata": {},
     "output_type": "execute_result"
    }
   ],
   "source": [
    "df_all_merged['exclusion_flag'].value_counts()"
   ]
  },
  {
   "cell_type": "code",
   "execution_count": 13,
   "id": "2eb858d0",
   "metadata": {},
   "outputs": [],
   "source": [
    "# Creating a new dataset which does not include data with max_order<5\n",
    "df_filtered_data= df_all_merged[~df_all_merged['exclusion_flag']]"
   ]
  },
  {
   "cell_type": "code",
   "execution_count": 14,
   "id": "d870148b",
   "metadata": {},
   "outputs": [
    {
     "data": {
      "text/plain": [
       "(30964564, 34)"
      ]
     },
     "execution_count": 14,
     "metadata": {},
     "output_type": "execute_result"
    }
   ],
   "source": [
    "df_filtered_data.shape"
   ]
  },
  {
   "cell_type": "code",
   "execution_count": 15,
   "id": "30a1fea4",
   "metadata": {},
   "outputs": [],
   "source": [
    "# Dataset with max_orders>5\n",
    "sample_exclusion = df_all_merged[df_all_merged['exclusion_flag']]"
   ]
  },
  {
   "cell_type": "code",
   "execution_count": 16,
   "id": "72638a1a",
   "metadata": {},
   "outputs": [],
   "source": [
    "# Exporting dataset as pickle format\n",
    "df_filtered_data.to_pickle(os.path.join(path, '02 Data', 'Prepared Data', 'df_filtered_data.pkl'))"
   ]
  },
  {
   "cell_type": "code",
   "execution_count": 17,
   "id": "a268eef2",
   "metadata": {},
   "outputs": [],
   "source": [
    "# Exporting sample dataset in pickle format.\n",
    "sample_exclusion.to_pickle(os.path.join(path, '02 Data', 'Prepared Data', 'sample_exclusion.pkl'))"
   ]
  }
 ],
 "metadata": {
  "kernelspec": {
   "display_name": "Python 3 (ipykernel)",
   "language": "python",
   "name": "python3"
  },
  "language_info": {
   "codemirror_mode": {
    "name": "ipython",
    "version": 3
   },
   "file_extension": ".py",
   "mimetype": "text/x-python",
   "name": "python",
   "nbconvert_exporter": "python",
   "pygments_lexer": "ipython3",
   "version": "3.11.5"
  }
 },
 "nbformat": 4,
 "nbformat_minor": 5
}
