{
 "cells": [
  {
   "cell_type": "markdown",
   "id": "84e242ba",
   "metadata": {},
   "source": [
    "# Importing Libraries"
   ]
  },
  {
   "cell_type": "code",
   "execution_count": null,
   "id": "d72ccdd8",
   "metadata": {},
   "outputs": [],
   "source": [
    "import pandas as pd\n",
    "import numpy as np\n",
    "import os"
   ]
  },
  {
   "cell_type": "markdown",
   "id": "8cc1d6f8",
   "metadata": {},
   "source": [
    "# Importing 'orders' and 'products' Datasets"
   ]
  },
  {
   "cell_type": "code",
   "execution_count": null,
   "id": "d4469034",
   "metadata": {},
   "outputs": [],
   "source": [
    "path=r'C:\\Users\\Usha Bharati\\Downloads\\02-2024 Instacart Basket Analysis'"
   ]
  },
  {
   "cell_type": "code",
   "execution_count": null,
   "id": "32636e73",
   "metadata": {},
   "outputs": [],
   "source": [
    "path"
   ]
  },
  {
   "cell_type": "code",
   "execution_count": null,
   "id": "b4a47fc8",
   "metadata": {},
   "outputs": [],
   "source": [
    "df_ords=pd.read_csv(os.path.join(path,'02 Data','Original Data','orders.csv'),index_col=False)"
   ]
  },
  {
   "cell_type": "code",
   "execution_count": null,
   "id": "8c283db2",
   "metadata": {},
   "outputs": [],
   "source": [
    "df_prods=pd.read_csv(os.path.join(path,'02 Data','Original Data','products.csv'),index_col=False)"
   ]
  },
  {
   "cell_type": "markdown",
   "id": "ced41160",
   "metadata": {},
   "source": [
    "# Data Wrangling-Dropping columns"
   ]
  },
  {
   "cell_type": "code",
   "execution_count": null,
   "id": "fbfcf98d",
   "metadata": {},
   "outputs": [],
   "source": [
    "df_ords.drop(columns=['eval_set'])"
   ]
  },
  {
   "cell_type": "code",
   "execution_count": null,
   "id": "2fb0b9f9",
   "metadata": {},
   "outputs": [],
   "source": [
    "df_ords.columns"
   ]
  },
  {
   "cell_type": "code",
   "execution_count": null,
   "id": "ecfa90a6",
   "metadata": {},
   "outputs": [],
   "source": [
    "df_ords=df_ords.drop(columns=['eval_set'])"
   ]
  },
  {
   "cell_type": "code",
   "execution_count": null,
   "id": "e3d7c021",
   "metadata": {},
   "outputs": [],
   "source": [
    "df_ords.columns"
   ]
  },
  {
   "cell_type": "code",
   "execution_count": null,
   "id": "cae80d6f",
   "metadata": {},
   "outputs": [],
   "source": [
    "df_ords['days_since_prior_order'].value_counts(dropna=False)"
   ]
  },
  {
   "cell_type": "markdown",
   "id": "321764d1",
   "metadata": {},
   "source": [
    "# Data Wrangling-Renaming columns"
   ]
  },
  {
   "cell_type": "code",
   "execution_count": null,
   "id": "f19d274d",
   "metadata": {},
   "outputs": [],
   "source": [
    "df_ords.rename(columns={'order_dow':'orders_day_of_week'},inplace=True)"
   ]
  },
  {
   "cell_type": "code",
   "execution_count": null,
   "id": "da1c91b4",
   "metadata": {},
   "outputs": [],
   "source": [
    "df_ords.head()"
   ]
  },
  {
   "cell_type": "markdown",
   "id": "d84937cd",
   "metadata": {},
   "source": [
    "# Data Wrangling- Changing a variable's data type"
   ]
  },
  {
   "cell_type": "code",
   "execution_count": null,
   "id": "af4ee16f",
   "metadata": {},
   "outputs": [],
   "source": [
    "df_ords['order_id'] = df_ords['order_id'].astype('str')"
   ]
  },
  {
   "cell_type": "code",
   "execution_count": null,
   "id": "eecddc7c",
   "metadata": {},
   "outputs": [],
   "source": [
    "df_ords['order_id'].dtype"
   ]
  },
  {
   "cell_type": "markdown",
   "id": "2347ba09",
   "metadata": {},
   "source": [
    "# Data Wrangling- Transposing Data"
   ]
  },
  {
   "cell_type": "code",
   "execution_count": null,
   "id": "123f1f13",
   "metadata": {},
   "outputs": [],
   "source": [
    "df_dep=pd.read_csv(os.path.join(path,'02 Data','Original Data','departments.csv'),index_col=False)"
   ]
  },
  {
   "cell_type": "code",
   "execution_count": null,
   "id": "4459411c",
   "metadata": {},
   "outputs": [],
   "source": [
    "df_dep.head()"
   ]
  },
  {
   "cell_type": "code",
   "execution_count": null,
   "id": "7a7872e7",
   "metadata": {},
   "outputs": [],
   "source": [
    "df_dep.T"
   ]
  },
  {
   "cell_type": "code",
   "execution_count": null,
   "id": "fba24bcf",
   "metadata": {},
   "outputs": [],
   "source": [
    "df_dep_t=df_dep.T"
   ]
  },
  {
   "cell_type": "code",
   "execution_count": null,
   "id": "98ff6e94",
   "metadata": {},
   "outputs": [],
   "source": [
    "df_dep_t"
   ]
  },
  {
   "cell_type": "code",
   "execution_count": null,
   "id": "d3e31307",
   "metadata": {},
   "outputs": [],
   "source": [
    "df_dep_t.reset_index()"
   ]
  },
  {
   "cell_type": "code",
   "execution_count": null,
   "id": "249dd44b",
   "metadata": {},
   "outputs": [],
   "source": [
    "new_header=df_dep_t.iloc[0]"
   ]
  },
  {
   "cell_type": "code",
   "execution_count": null,
   "id": "ee9c83df",
   "metadata": {},
   "outputs": [],
   "source": [
    "new_header"
   ]
  },
  {
   "cell_type": "code",
   "execution_count": null,
   "id": "c8402db7",
   "metadata": {},
   "outputs": [],
   "source": [
    "df_dep_t_new=df_dep_t[1:]"
   ]
  },
  {
   "cell_type": "code",
   "execution_count": null,
   "id": "879615ef",
   "metadata": {},
   "outputs": [],
   "source": [
    "df_dep_t_new"
   ]
  },
  {
   "cell_type": "code",
   "execution_count": null,
   "id": "2f7b6fa0",
   "metadata": {},
   "outputs": [],
   "source": [
    "df_dep_t_new.columns=new_header"
   ]
  },
  {
   "cell_type": "code",
   "execution_count": null,
   "id": "6f077b34",
   "metadata": {},
   "outputs": [],
   "source": [
    "df_dep_t_new"
   ]
  },
  {
   "cell_type": "markdown",
   "id": "ab502cae",
   "metadata": {},
   "source": [
    "# Data Dictionary"
   ]
  },
  {
   "cell_type": "code",
   "execution_count": null,
   "id": "fed439b0",
   "metadata": {},
   "outputs": [],
   "source": [
    "data_dict=df_dep_t_new.to_dict('index')"
   ]
  },
  {
   "cell_type": "code",
   "execution_count": null,
   "id": "dac11b3e",
   "metadata": {},
   "outputs": [],
   "source": [
    "data_dict"
   ]
  },
  {
   "cell_type": "code",
   "execution_count": null,
   "id": "4d16622b",
   "metadata": {},
   "outputs": [],
   "source": [
    "df_prods.head()"
   ]
  },
  {
   "cell_type": "code",
   "execution_count": null,
   "id": "02182225",
   "metadata": {},
   "outputs": [],
   "source": [
    "print(data_dict.get('19'))"
   ]
  },
  {
   "cell_type": "code",
   "execution_count": null,
   "id": "1848b0fe",
   "metadata": {},
   "outputs": [],
   "source": [
    "df_prods['department_id']==19"
   ]
  },
  {
   "cell_type": "code",
   "execution_count": null,
   "id": "a85cc5a0",
   "metadata": {},
   "outputs": [],
   "source": [
    "df_prods[df_prods['department_id']==19]"
   ]
  },
  {
   "cell_type": "code",
   "execution_count": null,
   "id": "e05a6f72",
   "metadata": {},
   "outputs": [],
   "source": [
    "df_snacks=df_prods[df_prods['department_id']==19]"
   ]
  },
  {
   "cell_type": "code",
   "execution_count": null,
   "id": "bd746ca8",
   "metadata": {},
   "outputs": [],
   "source": [
    "df_snacks.head()"
   ]
  },
  {
   "cell_type": "code",
   "execution_count": null,
   "id": "1ca7cff3",
   "metadata": {},
   "outputs": [],
   "source": [
    "df_snacks_2=df_prods.loc[df_prods['department_id']==19]"
   ]
  },
  {
   "cell_type": "code",
   "execution_count": null,
   "id": "4fc7be47",
   "metadata": {},
   "outputs": [],
   "source": [
    "df_snacks_2.head()"
   ]
  },
  {
   "cell_type": "code",
   "execution_count": null,
   "id": "8d38f256",
   "metadata": {},
   "outputs": [],
   "source": [
    "df_snacks_3=df_prods.loc[df_prods['department_id'].isin([19])]"
   ]
  },
  {
   "cell_type": "code",
   "execution_count": null,
   "id": "1f26cbb9",
   "metadata": {},
   "outputs": [],
   "source": [
    "df_snacks_3.head()"
   ]
  },
  {
   "cell_type": "markdown",
   "id": "96684891",
   "metadata": {},
   "source": [
    "# Exercise 4.4"
   ]
  },
  {
   "cell_type": "code",
   "execution_count": null,
   "id": "e419eea2",
   "metadata": {},
   "outputs": [],
   "source": [
    "# question 2\n",
    "df_ords.head()"
   ]
  },
  {
   "cell_type": "code",
   "execution_count": null,
   "id": "3964a123",
   "metadata": {},
   "outputs": [],
   "source": [
    "df_ords['order_number']=df_ords['order_number'].astype('str')"
   ]
  },
  {
   "cell_type": "code",
   "execution_count": null,
   "id": "215f8624",
   "metadata": {},
   "outputs": [],
   "source": [
    "df_ords['order_number'].dtype"
   ]
  },
  {
   "cell_type": "code",
   "execution_count": null,
   "id": "dc557278",
   "metadata": {},
   "outputs": [],
   "source": [
    "df_ords.describe()"
   ]
  },
  {
   "cell_type": "code",
   "execution_count": null,
   "id": "f19b04fc",
   "metadata": {},
   "outputs": [],
   "source": [
    "# question 3\n",
    "df_ords.rename(columns={'order_hour_of_day':'order_placement_hour'},inplace=False)"
   ]
  },
  {
   "cell_type": "code",
   "execution_count": null,
   "id": "7620aad9",
   "metadata": {},
   "outputs": [],
   "source": [
    "# unintuitive name- 'order_hour_of_day' changed its name to 'order_placement_hour' without overwriting the dataframe.\n",
    "df_ords.columns"
   ]
  },
  {
   "cell_type": "code",
   "execution_count": null,
   "id": "40db3519",
   "metadata": {},
   "outputs": [],
   "source": [
    "# question 4\n",
    "df_ords['order_hour_of_day'].value_counts(dropna=False)"
   ]
  },
  {
   "cell_type": "markdown",
   "id": "e5f83b4f",
   "metadata": {},
   "source": [
    "# 10am is the busiest hour for placing orders. "
   ]
  },
  {
   "cell_type": "code",
   "execution_count": null,
   "id": "41c08c2d",
   "metadata": {},
   "outputs": [],
   "source": [
    "#question 5\n",
    "data_dict"
   ]
  },
  {
   "cell_type": "code",
   "execution_count": null,
   "id": "13c66299",
   "metadata": {},
   "outputs": [],
   "source": [
    "print(data_dict.get('4'))"
   ]
  },
  {
   "cell_type": "code",
   "execution_count": null,
   "id": "86b8c8b7",
   "metadata": {},
   "outputs": [],
   "source": [
    "#question 6\n",
    "df_breakfast=df_prods[df_prods['department_id']==14]"
   ]
  },
  {
   "cell_type": "code",
   "execution_count": null,
   "id": "1145bc30",
   "metadata": {},
   "outputs": [],
   "source": [
    "df_breakfast.head()"
   ]
  },
  {
   "cell_type": "code",
   "execution_count": null,
   "id": "b8c5db8c",
   "metadata": {},
   "outputs": [],
   "source": [
    "# question 7\n",
    "df_dinner_party= df_prods.loc[df_prods['department_id'].isin([5,7,12,20])]"
   ]
  },
  {
   "cell_type": "code",
   "execution_count": null,
   "id": "20545482",
   "metadata": {},
   "outputs": [],
   "source": [
    "df_dinner_party.head()"
   ]
  },
  {
   "cell_type": "code",
   "execution_count": null,
   "id": "9f8b6d36",
   "metadata": {},
   "outputs": [],
   "source": [
    "#question 8- number of rows in dataframe can be obtained from 'shape' function\n",
    "df_dinner_party.shape"
   ]
  },
  {
   "cell_type": "code",
   "execution_count": null,
   "id": "5350260a",
   "metadata": {},
   "outputs": [],
   "source": [
    "# there are 7650 rows in df_dinner_party dataframe."
   ]
  },
  {
   "cell_type": "code",
   "execution_count": null,
   "id": "6773c4da",
   "metadata": {},
   "outputs": [],
   "source": [
    "# question 9--info about user_id=1 is obtained using indexing.\n",
    "user_id_1_info=df_ords[df_ords['user_id']==1]"
   ]
  },
  {
   "cell_type": "code",
   "execution_count": null,
   "id": "55d0fd2d",
   "metadata": {},
   "outputs": [],
   "source": [
    "user_id_1_info"
   ]
  },
  {
   "cell_type": "code",
   "execution_count": null,
   "id": "49e07306",
   "metadata": {},
   "outputs": [],
   "source": [
    "# question 10--basic stats can be obtained using describe function on the new dataframe created that is user_id_1_info.\n",
    "user_id_1_info.describe()"
   ]
  },
  {
   "cell_type": "code",
   "execution_count": null,
   "id": "1512ab2f",
   "metadata": {},
   "outputs": [],
   "source": [
    "df_ords.to_csv(os.path.join(path, '02 Data','Prepared Data', 'orders_wrangled.csv'),index=False)"
   ]
  },
  {
   "cell_type": "code",
   "execution_count": null,
   "id": "dea3df99",
   "metadata": {},
   "outputs": [],
   "source": [
    "df_dep_t_new.to_csv(os.path.join(path, '02 Data','Prepared Data', 'departments_wrangled.csv'))"
   ]
  },
  {
   "cell_type": "code",
   "execution_count": null,
   "id": "1d969fe7",
   "metadata": {},
   "outputs": [],
   "source": []
  }
 ],
 "metadata": {
  "kernelspec": {
   "display_name": "Python 3 (ipykernel)",
   "language": "python",
   "name": "python3"
  },
  "language_info": {
   "codemirror_mode": {
    "name": "ipython",
    "version": 3
   },
   "file_extension": ".py",
   "mimetype": "text/x-python",
   "name": "python",
   "nbconvert_exporter": "python",
   "pygments_lexer": "ipython3",
   "version": "3.11.5"
  }
 },
 "nbformat": 4,
 "nbformat_minor": 5
}
