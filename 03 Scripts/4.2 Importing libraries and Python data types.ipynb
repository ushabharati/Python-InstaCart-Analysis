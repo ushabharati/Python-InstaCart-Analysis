{
 "cells": [
  {
   "cell_type": "markdown",
   "id": "1ed8b41e",
   "metadata": {},
   "source": [
    "# 01.Importing Libraries"
   ]
  },
  {
   "cell_type": "code",
   "execution_count": 1,
   "id": "90e12b93",
   "metadata": {},
   "outputs": [],
   "source": [
    "# Import libraries \n",
    "import pandas as pd\n",
    "import numpy as np\n",
    "import os"
   ]
  },
  {
   "cell_type": "markdown",
   "id": "599092b7",
   "metadata": {},
   "source": [
    "# 02 Data Types"
   ]
  },
  {
   "cell_type": "code",
   "execution_count": 53,
   "id": "33c94db1",
   "metadata": {},
   "outputs": [],
   "source": [
    "x=25"
   ]
  },
  {
   "cell_type": "code",
   "execution_count": 54,
   "id": "154b2dca",
   "metadata": {},
   "outputs": [],
   "source": [
    "y=75"
   ]
  },
  {
   "cell_type": "code",
   "execution_count": 55,
   "id": "a0cf2cbb",
   "metadata": {},
   "outputs": [
    {
     "data": {
      "text/plain": [
       "100"
      ]
     },
     "execution_count": 55,
     "metadata": {},
     "output_type": "execute_result"
    }
   ],
   "source": [
    "x+y"
   ]
  },
  {
   "cell_type": "code",
   "execution_count": 56,
   "id": "45c9a1ff",
   "metadata": {},
   "outputs": [],
   "source": [
    "x=x+35"
   ]
  },
  {
   "cell_type": "code",
   "execution_count": 57,
   "id": "43f498f8",
   "metadata": {},
   "outputs": [],
   "source": [
    "y=y-35"
   ]
  },
  {
   "cell_type": "code",
   "execution_count": 58,
   "id": "81686a0b",
   "metadata": {},
   "outputs": [
    {
     "data": {
      "text/plain": [
       "100"
      ]
     },
     "execution_count": 58,
     "metadata": {},
     "output_type": "execute_result"
    }
   ],
   "source": [
    "x+y"
   ]
  },
  {
   "cell_type": "code",
   "execution_count": 59,
   "id": "e6621e0e",
   "metadata": {},
   "outputs": [
    {
     "name": "stdout",
     "output_type": "stream",
     "text": [
      "60\n"
     ]
    }
   ],
   "source": [
    "print(x)"
   ]
  },
  {
   "cell_type": "code",
   "execution_count": 60,
   "id": "1d16f479",
   "metadata": {},
   "outputs": [
    {
     "name": "stdout",
     "output_type": "stream",
     "text": [
      "40\n"
     ]
    }
   ],
   "source": [
    "print(y)"
   ]
  },
  {
   "cell_type": "code",
   "execution_count": 61,
   "id": "f4b4ad21",
   "metadata": {},
   "outputs": [],
   "source": [
    "x=x-10"
   ]
  },
  {
   "cell_type": "code",
   "execution_count": 62,
   "id": "29da10e3",
   "metadata": {},
   "outputs": [],
   "source": [
    "y=y+10"
   ]
  },
  {
   "cell_type": "code",
   "execution_count": 63,
   "id": "6ef141b2",
   "metadata": {},
   "outputs": [
    {
     "data": {
      "text/plain": [
       "100"
      ]
     },
     "execution_count": 63,
     "metadata": {},
     "output_type": "execute_result"
    }
   ],
   "source": [
    "x+y"
   ]
  },
  {
   "cell_type": "code",
   "execution_count": 76,
   "id": "0fd151ea",
   "metadata": {},
   "outputs": [],
   "source": [
    "a=10.5"
   ]
  },
  {
   "cell_type": "code",
   "execution_count": 77,
   "id": "5b8fcdd5",
   "metadata": {},
   "outputs": [],
   "source": [
    "b=2.5"
   ]
  },
  {
   "cell_type": "code",
   "execution_count": 78,
   "id": "e208438d",
   "metadata": {},
   "outputs": [
    {
     "data": {
      "text/plain": [
       "4.2"
      ]
     },
     "execution_count": 78,
     "metadata": {},
     "output_type": "execute_result"
    }
   ],
   "source": [
    "a/b"
   ]
  },
  {
   "cell_type": "code",
   "execution_count": 85,
   "id": "9a307bb9",
   "metadata": {},
   "outputs": [],
   "source": [
    "c='Data '"
   ]
  },
  {
   "cell_type": "code",
   "execution_count": 86,
   "id": "389ed03e",
   "metadata": {},
   "outputs": [],
   "source": [
    "d='Analytics'"
   ]
  },
  {
   "cell_type": "code",
   "execution_count": 87,
   "id": "217cfc1e",
   "metadata": {},
   "outputs": [
    {
     "data": {
      "text/plain": [
       "'Data Analytics'"
      ]
     },
     "execution_count": 87,
     "metadata": {},
     "output_type": "execute_result"
    }
   ],
   "source": [
    "c+d"
   ]
  },
  {
   "cell_type": "code",
   "execution_count": 89,
   "id": "c2ff9a3a",
   "metadata": {},
   "outputs": [],
   "source": [
    "w1='The Sun '"
   ]
  },
  {
   "cell_type": "code",
   "execution_count": 93,
   "id": "dcea4cfd",
   "metadata": {},
   "outputs": [],
   "source": [
    "w2='sets in the west.'"
   ]
  },
  {
   "cell_type": "code",
   "execution_count": 94,
   "id": "da50ef4a",
   "metadata": {},
   "outputs": [
    {
     "data": {
      "text/plain": [
       "'The Sun sets in the west.'"
      ]
     },
     "execution_count": 94,
     "metadata": {},
     "output_type": "execute_result"
    }
   ],
   "source": [
    "w1+w2"
   ]
  },
  {
   "cell_type": "code",
   "execution_count": 96,
   "id": "6913f72a",
   "metadata": {},
   "outputs": [],
   "source": [
    "w3='I like '"
   ]
  },
  {
   "cell_type": "code",
   "execution_count": 97,
   "id": "4d735430",
   "metadata": {},
   "outputs": [],
   "source": [
    "w4='Spring season.'"
   ]
  },
  {
   "cell_type": "code",
   "execution_count": 98,
   "id": "0d52af9e",
   "metadata": {},
   "outputs": [
    {
     "data": {
      "text/plain": [
       "'I like Spring season.'"
      ]
     },
     "execution_count": 98,
     "metadata": {},
     "output_type": "execute_result"
    }
   ],
   "source": [
    "w3+w4"
   ]
  },
  {
   "cell_type": "markdown",
   "id": "24b29b8e",
   "metadata": {},
   "source": [
    "# Bonus Task"
   ]
  },
  {
   "cell_type": "code",
   "execution_count": 99,
   "id": "aad5f4a5",
   "metadata": {},
   "outputs": [],
   "source": [
    "n='Code'"
   ]
  },
  {
   "cell_type": "code",
   "execution_count": 100,
   "id": "1bd19d61",
   "metadata": {},
   "outputs": [
    {
     "data": {
      "text/plain": [
       "'CodeCodeCodeCodeCodeCodeCodeCodeCodeCodeCodeCodeCodeCodeCodeCodeCodeCodeCodeCodeCodeCodeCodeCodeCodeCodeCodeCodeCodeCodeCodeCodeCodeCodeCodeCodeCodeCodeCodeCodeCodeCodeCodeCodeCodeCodeCodeCodeCodeCodeCodeCodeCodeCodeCodeCodeCodeCodeCodeCodeCodeCodeCodeCodeCodeCodeCodeCodeCodeCodeCodeCodeCodeCodeCodeCodeCodeCodeCodeCodeCodeCodeCodeCodeCodeCodeCodeCodeCodeCodeCodeCodeCodeCodeCodeCodeCodeCodeCodeCode'"
      ]
     },
     "execution_count": 100,
     "metadata": {},
     "output_type": "execute_result"
    }
   ],
   "source": [
    "n*100"
   ]
  }
 ],
 "metadata": {
  "kernelspec": {
   "display_name": "Python 3 (ipykernel)",
   "language": "python",
   "name": "python3"
  },
  "language_info": {
   "codemirror_mode": {
    "name": "ipython",
    "version": 3
   },
   "file_extension": ".py",
   "mimetype": "text/x-python",
   "name": "python",
   "nbconvert_exporter": "python",
   "pygments_lexer": "ipython3",
   "version": "3.11.5"
  }
 },
 "nbformat": 4,
 "nbformat_minor": 5
}
